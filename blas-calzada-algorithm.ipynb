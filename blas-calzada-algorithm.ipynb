{
 "cells": [
  {
   "cell_type": "code",
   "execution_count": 16,
   "metadata": {},
   "outputs": [],
   "source": [
    "import pandas as pd\n",
    "import numpy as np\n",
    "import itertools\n",
    "import matplotlib.pyplot as plt\n",
    "import seaborn as sns\n",
    "%matplotlib inline\n",
    "\n",
    "sns.set(color_codes=True)"
   ]
  },
  {
   "cell_type": "code",
   "execution_count": 2,
   "metadata": {},
   "outputs": [],
   "source": [
    "import pandas as pd\n",
    "import numpy as np\n",
    "\n",
    "class IS_Entry:\n",
    "    \"\"\"\n",
    "    Class defining a record in the Income Statement.\n",
    "    \"\"\"\n",
    "    \n",
    "    \n",
    "    def __init__(self, name, entry_type, *args):\n",
    "        \"\"\"\n",
    "        Constructor for IS_entry class.\n",
    "        \n",
    "        Parameters\n",
    "        ----------\n",
    "        self : IS_Entry\n",
    "            IS_Entry object whose calling the function.\n",
    "        name : str\n",
    "            Name for identifying the income Statement entry.\n",
    "        entry_type : bool\n",
    "            0 for revenues type, and 1 for costs type.\n",
    "        minimum_value : int\n",
    "            Minimum value the entry can have.\n",
    "        maximum_value : int\n",
    "            Maximum value the entry can have.\n",
    "        intervals : int\n",
    "            Number of intervals to divide the range into.\n",
    "        range_values : [int]\n",
    "            Numpy Array of values for the entry.\n",
    "        \"\"\"\n",
    "        if len(args) == 3:\n",
    "            print(\n",
    "                \"Creating a value range with minimum value={}, maximum value={} and number of intervals={}\".format(args[0], args[1], args[2])\n",
    "            )\n",
    "            self.name = name\n",
    "            self.entry_type = entry_type\n",
    "            self.range_values = np.round(np.linspace(args[0], args[1], num=args[2]))\n",
    "        \n",
    "        elif len(args) == 1:\n",
    "            print(\n",
    "                \"Assign range of values with minimum value={}, maximum value={} and number of intervals={}\".format(args[0][0], args[0][len(args[0])-1], len(args[0]))\n",
    "            )\n",
    "            self.name = name\n",
    "            self.entry_type = entry_type\n",
    "            self.range_values = args[0]\n",
    "        \n",
    "        else:\n",
    "            self.name = name\n",
    "            self.entry_type = entry_type\n",
    "            self.range_values = np.array(int)\n",
    "            \n",
    "    \n",
    "    def modify_range_values(self, *args):\n",
    "        \"\"\"\n",
    "        Function for modifying range values.\n",
    "        \n",
    "        Parameters\n",
    "        ----------\n",
    "        self : IS_Entry\n",
    "            IS_Entry object whose calling the function.\n",
    "        minimum_value : int\n",
    "            Minimum value the entry can have.\n",
    "        maximum_value : int\n",
    "            Maximum value the entry can have.\n",
    "        intervals : int\n",
    "            Number of intervals to divide the range into.\n",
    "        range_values : [int]\n",
    "            Numpy Array of values for the entry.\n",
    "            \n",
    "        Returns\n",
    "        -------\n",
    "        The range of values before the modification.\n",
    "        \"\"\"\n",
    "        if len(args) == 3:\n",
    "            print(\n",
    "                \"Modifying values with range with minimum value={}, maximum value={} and number of intervals={}\".format(args[0], args[1], args[2])\n",
    "            )\n",
    "            former_range = self.range_values\n",
    "            self.range_values = np.round(np.linspace(args[0], args[1], num=args[2]))\n",
    "       \n",
    "        elif len(args) == 1:\n",
    "            print(\n",
    "                \"Modifying values with already created range with minimum value={}, maximum value={} and number of intervals={}\".format(args[0][0], args[0][len(args[0])-1], len(args[0]))\n",
    "            )\n",
    "            former_range = self.range_values\n",
    "            self.range_values = args[0]\n",
    "\n",
    "        else:\n",
    "            print(\n",
    "                \"Not valid arguments for modifying range of values. None modifications have been made.\"\n",
    "            )\n",
    "            former_range = self.range_values\n",
    "            \n",
    "        return former_range"
   ]
  },
  {
   "cell_type": "code",
   "execution_count": 8,
   "metadata": {},
   "outputs": [],
   "source": [
    "class Income_Statement:\n",
    "    \"\"\"\n",
    "    Class representing an Income Statement for a specific year.\n",
    "    \"\"\"\n",
    "    \n",
    "    \n",
    "    def __init__(self, name, year, tax, *args):\n",
    "        \"\"\"\n",
    "        Constructor for Income_Statement class.\n",
    "        \n",
    "        Parameters\n",
    "        ----------\n",
    "        self : Income_Statement\n",
    "            Income_Statement object whose calling the function.\n",
    "        name : str\n",
    "            Name of the company.\n",
    "        year : int\n",
    "            Year of the Income Statement.\n",
    "        tax : int\n",
    "            tax that appliers to the specific company.\n",
    "        \"\"\"\n",
    "        self.name = name\n",
    "        self.year = year\n",
    "        self.tax = tax\n",
    "        self.entries = {}\n",
    "        self.gross_profit = np.array(int)\n",
    "        self.gros_margin = 0\n",
    "        self.ebitda = np.array(int)\n",
    "        self.ebit = np.array(int)\n",
    "        self.ebt = np.array(int)\n",
    "        self.profit = np.array(int)\n",
    "        print(\"Created new Income Statement of year={} for company {}, with tax={:.2%}\".format(year, name, tax))\n",
    "\n",
    "\n",
    "    def add_entry(self, name, entry_type, *args):\n",
    "        \"\"\"\n",
    "        Function for adding an entry to the income statement.\n",
    "        \n",
    "        Parameters\n",
    "        ----------\n",
    "        self : Income_Statement\n",
    "            Income_Statement object whose calling the function.\n",
    "        name : str\n",
    "            Name for identifying the income Statement entry.\n",
    "        entry_type : bool\n",
    "            True for revenues type and False for costs type.\n",
    "        minimum_value : int\n",
    "            Minimum value the entry can have.\n",
    "        maximum_value : int\n",
    "            Maximum value the entry can have.\n",
    "        intervals : int\n",
    "            Number of intervals to divide the range into.\n",
    "        range_values : [int]\n",
    "            Numpy Array of values for the entry.\n",
    "            \n",
    "        Returns\n",
    "        -------\n",
    "        IS_Entry\n",
    "            The Income Statement Entry object that is added to the Income Statement.\n",
    "        \"\"\"\n",
    "        entry = IS_Entry(name, entry_type, *args)\n",
    "        self.entries[name] = entry\n",
    "        \n",
    "        return entry\n",
    "    \n",
    "    \n",
    "    def modify_entry_values(self, name, *args):\n",
    "        \"\"\"\n",
    "        Function for modifing the entry range values.\n",
    "        \n",
    "        Parameters\n",
    "        ----------\n",
    "        self : Income_Statement\n",
    "            Income_Statement object whose calling the function.\n",
    "        name : str\n",
    "            Name of the entry to be modified.\n",
    "        minimum_value : int\n",
    "            Minimum value the entry can have.\n",
    "        maximum_value : int\n",
    "            Maximum value the entry can have.\n",
    "        intervals : int\n",
    "            Number of intervals to divide the range into.\n",
    "        range_values : [int]\n",
    "            Numpy Array of values for the entry.\n",
    "\n",
    "        Returns\n",
    "        -------\n",
    "        The range of values before the modification.\n",
    "        \"\"\"\n",
    "        # TODO: Create case when name is nor an existing entry.\n",
    "        entry = self.entries[name]\n",
    "        former_values = entry.modify_range_values(*args)\n",
    "        \n",
    "        return former_values\n",
    "    \n",
    "    \n",
    "    def calculate_result_from_entries(self, entry_1, entry_2):\n",
    "        \"\"\"\n",
    "        Calculate all possible results from combinations of 2 lines from the income statement.\n",
    "        \n",
    "        Parameters:\n",
    "        -----------\n",
    "        entry_1: str\n",
    "            Name of first entry to calculate result from.\n",
    "        entry_2: str\n",
    "            Name of second entry to calculate result from.\n",
    "            \n",
    "        Returns:\n",
    "        --------\n",
    "        A numpy array with all results sorted.\n",
    "        \"\"\"\n",
    "        if not self.entries[entry_1] or not self.entries[entry_2]:\n",
    "            \n",
    "            print(\"Not valid names for Income Statement entries\")\n",
    "            \n",
    "            return\n",
    "        \n",
    "        else:\n",
    "            \n",
    "            if self.entries[entry_1].entry_type:\n",
    "                results1=self.entries[entry_1].range_values\n",
    "            else: \n",
    "                results1=-1*(self.entries[entry_1].range_values)\n",
    "            if self.entries[entry_2].entry_type:\n",
    "                results2=self.entries[entry_2].range_values\n",
    "            else:\n",
    "                results2=-1*(self.entries[entry_2].range_values)\n",
    "        \n",
    "            result = []\n",
    "            for i in itertools.product(results1, results2):\n",
    "                result.append(i[0] + i[1])\n",
    "\n",
    "            return np.array(sorted(result))\n",
    "        \n",
    "    \n",
    "    def calculate_result_from_values(self, partial_vals, entry_2):\n",
    "        \"\"\"\n",
    "        Calculate all possible results from combinations of 2 lines from the income statement. The first line\n",
    "        is a range of values while the second one is a name for an entry.\n",
    "        \n",
    "        Parameters:\n",
    "        -----------\n",
    "        partial_vals: (int)\n",
    "            Array of integers\n",
    "        entry_2: str\n",
    "            Name of second entry to calculate result from.\n",
    "            \n",
    "        Returns:\n",
    "        --------\n",
    "        A numpy array with all results.\n",
    "        \"\"\"\n",
    "        if not self.entries[entry_2]:\n",
    "            \n",
    "            print(\"Not valid name for Income Statement entry\")\n",
    "            \n",
    "            return\n",
    "        \n",
    "        else:\n",
    "            \n",
    "            if self.entries[entry_2].entry_type:\n",
    "                results2=self.entries[entry_2].range_values\n",
    "            else:\n",
    "                results2=-1*(self.entries[entry_2].range_values)\n",
    "        \n",
    "            result = []\n",
    "            for i in itertools.product(partial_vals, results2):\n",
    "                result.append(i[0] + i[1])\n",
    "\n",
    "            return np.array(result)\n",
    "    \n",
    "    \n",
    "    def calculate_gross_profit(self, gross_margin):\n",
    "        \"\"\"\n",
    "        Calculate Gross Margin for the Income Statement\n",
    "        \n",
    "        Parameters:\n",
    "        -----------\n",
    "        gross_margin : int\n",
    "            Average % gross margin for the company.\n",
    "        \n",
    "        Returns:\n",
    "        --------\n",
    "        np.array(int)\n",
    "            Numpy array of integers representing gross profits.\n",
    "        \"\"\"\n",
    "        self.gross_margin = gross_margin\n",
    "        self.add_entry(\"cogs\", False, (1-gross_margin)*(self.entries[\"revenues\"].range_values))\n",
    "        self.gross_profit = gross_margin*(self.entries[\"revenues\"].range_values)\n",
    "        \n",
    "        return self.gross_profit\n",
    "    \n",
    "    \n",
    "    def calculate_ebitda(self):\n",
    "        \"\"\"\n",
    "        Calculate Ebitda for the Income Statement.\n",
    "        \n",
    "        Returns:\n",
    "        --------\n",
    "        np.array(int)\n",
    "            Numpy array of integers representing ebitda values.\n",
    "        \"\"\"\n",
    "        costs = []\n",
    "        # 1 - Obtain all costs that are not Cogs or financial costs\n",
    "        for name, entry_obj in self.entries.items():\n",
    "            if not entry_obj.entry_type and \"fin\" not in name and \"cogs\" not in name:\n",
    "                costs.append(name)\n",
    "        \n",
    "        # 2 - Check if gross profits have been calculated. If not, set gross margin to be 70%\n",
    "        if self.gross_margin == 0 or \"cogs\" not in self.entries.keys():\n",
    "            calculate_gross_profit(0.7)\n",
    "            \n",
    "        # 3 - Calculate Ebitda. start result by revenues values\n",
    "        result = self.gross_profit\n",
    "        print(\"Gross profit is: {}\".format(self.gross_profit))\n",
    "        for entry in costs:\n",
    "            print(\"Length of results is {}\".format(len(result)))\n",
    "            print(\"Costs for {} are {}\".format(entry, self.entries[entry].range_values))\n",
    "            result = self.calculate_result_from_values(result, entry)\n",
    "            print(\"Partial results after {}\".format(entry))\n",
    "            print(result)\n",
    "        \n",
    "        # 4 - Set Ebitda Value\n",
    "        self.ebitda = np.array(result)\n",
    "        \n",
    "        return self.ebitda\n",
    "    \n",
    "    def plot_histogram(self, entry, cols=30, save=False, plot_point=False):\n",
    "        \"\"\"\n",
    "        Plot an histogram distribution for a specific entry.\n",
    "        \n",
    "        Parameters:\n",
    "        -----------\n",
    "        entry: str\n",
    "            The specific entry we want to print the distriution for.\n",
    "        cols: int (default: 30)\n",
    "            Total number of cols to print in our histogram.\n",
    "        save: bool\n",
    "            bool to indicate if we want to save the plot.\n",
    "        plot_point: bool\n",
    "            Whether to point the specific point of estimation on the plot or not.\n",
    "\n",
    "        Returns:\n",
    "        --------\n",
    "        Name of the file where the plot was saved to or nothing.\n",
    "        \"\"\"\n",
    "        # TODO: Handle case where entry does not exist and avoid an error.\n",
    "        values = self.__getattribute__(entry)\n",
    "        image = sns.distplot(values, bins=cols)\n",
    "        if plot_point:\n",
    "            image.sns.pointplot()\n",
    "        "
   ]
  },
  {
   "cell_type": "code",
   "execution_count": 9,
   "metadata": {},
   "outputs": [
    {
     "name": "stdout",
     "output_type": "stream",
     "text": [
      "Created new Income Statement of year=2017 for company Kibiwoo, with tax=25.00%\n"
     ]
    }
   ],
   "source": [
    "# 1 - Create Income statement for Kibiwoo and year 2017\n",
    "is_kib_2017 = Income_Statement(\"Kibiwoo\", 2017, 0.25)"
   ]
  },
  {
   "cell_type": "code",
   "execution_count": 10,
   "metadata": {},
   "outputs": [
    {
     "name": "stdout",
     "output_type": "stream",
     "text": [
      "Creating a value range with minimum value=2600000, maximum value=7075000 and number of intervals=50\n"
     ]
    },
    {
     "data": {
      "text/plain": [
       "<__main__.IS_Entry at 0x7f3b5780b710>"
      ]
     },
     "execution_count": 10,
     "metadata": {},
     "output_type": "execute_result"
    }
   ],
   "source": [
    "# 2 - Insert Revenues\n",
    "\"\"\"\n",
    "For BEST case (7.075 M €) we consider a total:\n",
    "  - Ski: 9.5% Mkt. Share in Spain. 8.15% Mkt. Share for Andorra. 0.72% Mkt. Share France.\n",
    "  - Bicycle: 5% Mkt. Share in Spain.\n",
    "  - Surf: 10 % Mkt. Share in Spain. 1.85% Mkt. Share France.\n",
    "For WORST (2.6 M €) case we consider a total:\n",
    "  - Ski: 4% Mkt. Share in Spain. 3.5% Mkt. Share for Andorra. 0.1% Mkt. Share France.\n",
    "  - Bicycle: 2.3% Mkt. Share in Spain.\n",
    "  - Surf: 5.1 % Mkt. Share in Spain. 0% Mkt. Share France.\n",
    "\"\"\"\n",
    "\n",
    "is_kib_2017.add_entry(\"revenues\", True, 2600000, 7075000, 50)"
   ]
  },
  {
   "cell_type": "code",
   "execution_count": 11,
   "metadata": {},
   "outputs": [
    {
     "name": "stdout",
     "output_type": "stream",
     "text": [
      "Assign range of values with minimum value=306800.0, maximum value=834850.0 and number of intervals=50\n"
     ]
    },
    {
     "data": {
      "text/plain": [
       "array([2293200.   , 2373750.414, 2454299.946, 2534850.36 , 2615399.892,\n",
       "       2695950.306, 2776499.838, 2857050.252, 2937599.784, 3018150.198,\n",
       "       3098699.73 , 3179250.144, 3259799.676, 3340350.09 , 3420899.622,\n",
       "       3501450.036, 3581999.568, 3662549.982, 3743100.396, 3823649.928,\n",
       "       3904200.342, 3984749.874, 4065300.288, 4145849.82 , 4226400.234,\n",
       "       4306949.766, 4387500.18 , 4468049.712, 4548600.126, 4629149.658,\n",
       "       4709700.072, 4790249.604, 4870800.018, 4951350.432, 5031899.964,\n",
       "       5112450.378, 5192999.91 , 5273550.324, 5354099.856, 5434650.27 ,\n",
       "       5515199.802, 5595750.216, 5676299.748, 5756850.162, 5837399.694,\n",
       "       5917950.108, 5998499.64 , 6079050.054, 6159599.586, 6240150.   ])"
      ]
     },
     "execution_count": 11,
     "metadata": {},
     "output_type": "execute_result"
    }
   ],
   "source": [
    "# 3 - Calculate Gross profit and create COGS entry\n",
    "is_kib_2017.calculate_gross_profit(0.882)"
   ]
  },
  {
   "cell_type": "code",
   "execution_count": 12,
   "metadata": {},
   "outputs": [
    {
     "name": "stdout",
     "output_type": "stream",
     "text": [
      "Creating a value range with minimum value=1062000, maximum value=1600000 and number of intervals=50\n"
     ]
    },
    {
     "data": {
      "text/plain": [
       "<__main__.IS_Entry at 0x7f3b57cbaeb8>"
      ]
     },
     "execution_count": 12,
     "metadata": {},
     "output_type": "execute_result"
    }
   ],
   "source": [
    "# 4 - Add RRHH Costs\n",
    "\"\"\"\n",
    "For BEST case (1.6 M € - 22.6% of Rev.) we consider:\n",
    "  - New Clients / Sales Team: 17.5 K.\n",
    "  - Clients / Sales Team: 26 K.\n",
    "  - Clients / IT Member: 60 K.\n",
    "  - Clients / Ops Member: 26 K.\n",
    "For WORST case (1.062 M € - 41 %) we consider a total:\n",
    "  - New Clients / Sales Team: 26K.\n",
    "  - Clients / Sales Team: 19.5 K.\n",
    "  - Clients / IT Member: 36 K.\n",
    "  - Clients / Ops Member: 19.5 K.\n",
    "\"\"\"\n",
    "is_kib_2017.add_entry(\"rrhh_costs\", False, 1062000, 1600000, 50)"
   ]
  },
  {
   "cell_type": "code",
   "execution_count": 13,
   "metadata": {},
   "outputs": [
    {
     "name": "stdout",
     "output_type": "stream",
     "text": [
      "Creating a value range with minimum value=912000, maximum value=2320000 and number of intervals=50\n"
     ]
    },
    {
     "data": {
      "text/plain": [
       "<__main__.IS_Entry at 0x7f3b57cea630>"
      ]
     },
     "execution_count": 13,
     "metadata": {},
     "output_type": "execute_result"
    }
   ],
   "source": [
    "# 5 - Add Marketing Costs\n",
    "\"\"\"\n",
    "For BEST case (6.3 € C.A.C) we consider:\n",
    "  - 32.90 % - 2.32 M € sobre 7.75M\n",
    "For WORST case (12.3 € C.A.C.) we consider a total:\n",
    "  - 35.2 % - 0.912 M € sobre 2.6M\n",
    "\"\"\"\n",
    "is_kib_2017.add_entry(\"mkt_costs\", False, 912000, 2320000, 50)"
   ]
  },
  {
   "cell_type": "code",
   "execution_count": 14,
   "metadata": {},
   "outputs": [
    {
     "name": "stdout",
     "output_type": "stream",
     "text": [
      "Creating a value range with minimum value=260000, maximum value=360000 and number of intervals=50\n"
     ]
    },
    {
     "data": {
      "text/plain": [
       "<__main__.IS_Entry at 0x7f3b57ca49e8>"
      ]
     },
     "execution_count": 14,
     "metadata": {},
     "output_type": "execute_result"
    }
   ],
   "source": [
    "# 5 - Add General Costs\n",
    "\"\"\"\n",
    "For BEST case we consider:\n",
    "  - 5 % - 360K € sobre 7.75M\n",
    "For WORST case we consider:\n",
    "  - 10 % - 260K € sobre 2.6M\n",
    "\"\"\"\n",
    "is_kib_2017.add_entry(\"gen_costs\", False, 260000, 360000, 50)"
   ]
  },
  {
   "cell_type": "code",
   "execution_count": 15,
   "metadata": {},
   "outputs": [
    {
     "name": "stdout",
     "output_type": "stream",
     "text": [
      "Gross profit is: [2293200.    2373750.414 2454299.946 2534850.36  2615399.892 2695950.306\n",
      " 2776499.838 2857050.252 2937599.784 3018150.198 3098699.73  3179250.144\n",
      " 3259799.676 3340350.09  3420899.622 3501450.036 3581999.568 3662549.982\n",
      " 3743100.396 3823649.928 3904200.342 3984749.874 4065300.288 4145849.82\n",
      " 4226400.234 4306949.766 4387500.18  4468049.712 4548600.126 4629149.658\n",
      " 4709700.072 4790249.604 4870800.018 4951350.432 5031899.964 5112450.378\n",
      " 5192999.91  5273550.324 5354099.856 5434650.27  5515199.802 5595750.216\n",
      " 5676299.748 5756850.162 5837399.694 5917950.108 5998499.64  6079050.054\n",
      " 6159599.586 6240150.   ]\n",
      "Length of results is 50\n",
      "Costs for rrhh_costs are [1062000. 1072980. 1083959. 1094939. 1105918. 1116898. 1127878. 1138857.\n",
      " 1149837. 1160816. 1171796. 1182776. 1193755. 1204735. 1215714. 1226694.\n",
      " 1237673. 1248653. 1259633. 1270612. 1281592. 1292571. 1303551. 1314531.\n",
      " 1325510. 1336490. 1347469. 1358449. 1369429. 1380408. 1391388. 1402367.\n",
      " 1413347. 1424327. 1435306. 1446286. 1457265. 1468245. 1479224. 1490204.\n",
      " 1501184. 1512163. 1523143. 1534122. 1545102. 1556082. 1567061. 1578041.\n",
      " 1589020. 1600000.]\n",
      "Partial results after rrhh_costs\n",
      "[1231200. 1220220. 1209241. ... 4662109. 4651130. 4640150.]\n",
      "Length of results is 2500\n",
      "Costs for mkt_costs are [ 912000.  940735.  969469.  998204. 1026939. 1055673. 1084408. 1113143.\n",
      " 1141878. 1170612. 1199347. 1228082. 1256816. 1285551. 1314286. 1343020.\n",
      " 1371755. 1400490. 1429224. 1457959. 1486694. 1515429. 1544163. 1572898.\n",
      " 1601633. 1630367. 1659102. 1687837. 1716571. 1745306. 1774041. 1802776.\n",
      " 1831510. 1860245. 1888980. 1917714. 1946449. 1975184. 2003918. 2032653.\n",
      " 2061388. 2090122. 2118857. 2147592. 2176327. 2205061. 2233796. 2262531.\n",
      " 2291265. 2320000.]\n",
      "Partial results after mkt_costs\n",
      "[ 319200.  290465.  261731. ... 2377619. 2348885. 2320150.]\n",
      "Length of results is 125000\n",
      "Costs for gen_costs are [260000. 262041. 264082. 266122. 268163. 270204. 272245. 274286. 276327.\n",
      " 278367. 280408. 282449. 284490. 286531. 288571. 290612. 292653. 294694.\n",
      " 296735. 298776. 300816. 302857. 304898. 306939. 308980. 311020. 313061.\n",
      " 315102. 317143. 319184. 321224. 323265. 325306. 327347. 329388. 331429.\n",
      " 333469. 335510. 337551. 339592. 341633. 343673. 345714. 347755. 349796.\n",
      " 351837. 353878. 355918. 357959. 360000.]\n",
      "Partial results after gen_costs\n",
      "[  59200.   57159.   55118. ... 1964232. 1962191. 1960150.]\n"
     ]
    }
   ],
   "source": [
    "# 5 - Calculate all ebitda values\n",
    "ebitda = is_kib_2017.calculate_ebitda()"
   ]
  },
  {
   "cell_type": "code",
   "execution_count": 18,
   "metadata": {},
   "outputs": [
    {
     "data": {
      "image/png": "[encoded data removed]",
      "text/plain": [
       "<Figure size 432x288 with 1 Axes>"
      ]
     },
     "metadata": {},
     "output_type": "display_data"
    }
   ],
   "source": [
    "# 6 - Print distribution plot for ebitda entry.\n",
    "is_kib_2017.plot_histogram(\"ebitda\", cols=20)"
   ]
  },
  {
   "cell_type": "code",
   "execution_count": 58,
   "metadata": {},
   "outputs": [
    {
     "data": {
      "text/plain": [
       "<matplotlib.lines.Line2D at 0x7f3b36fcb4a8>"
      ]
     },
     "execution_count": 58,
     "metadata": {},
     "output_type": "execute_result"
    },
    {
     "data": {
      "image/png": "[encoded data removed]",
      "text/plain": [
       "<Figure size 432x288 with 1 Axes>"
      ]
     },
     "metadata": {},
     "output_type": "display_data"
    }
   ],
   "source": [
    "sns.distplot(is_kib_2017.ebitda, bins=20)\n",
    "plt.axvline(+1000000, 0, 0.9, color='r')"
   ]
  },
  {
   "cell_type": "code",
   "execution_count": 39,
   "metadata": {},
   "outputs": [],
   "source": [
    "is_kib_2017.ebitda.sort()"
   ]
  },
  {
   "cell_type": "code",
   "execution_count": 57,
   "metadata": {},
   "outputs": [
    {
     "name": "stdout",
     "output_type": "stream",
     "text": [
      "75.1%\n"
     ]
    }
   ],
   "source": [
    "print(\"{:.1%}\".format(len(is_kib_2017.ebitda[is_kib_2017.ebitda > 0])/len(is_kib_2017.ebitda)))"
   ]
  },
  {
   "cell_type": "code",
   "execution_count": null,
   "metadata": {},
   "outputs": [],
   "source": [
    "def create_data(pl_entries):\n",
    "    \"\"\"\n",
    "    Function for creating a pandas dataframe that contains as columns each P&L line and as data\n",
    "    the numpy array for each line with all possible values.\n",
    "    \n",
    "    Args:\n",
    "        - pl_entries....List containing all the lines of the P&L.\n",
    "        \n",
    "    Returns:\n",
    "        A pandas dataframe with columns name the P&L lines and values a numpy array of the intervals for each line\n",
    "    \"\"\"\n",
    "    data = {}\n",
    "    for line in pl_entries:\n",
    "        start, stop, num_steps = create_interval(line)\n",
    "        print(\"Line has values (start={:d}, stop={:d}, num_steps={:d})\\n\".format(start, stop, num_steps))\n",
    "        data[line] = create_array()\n",
    "    return data"
   ]
  }
 ],
 "metadata": {
  "kernelspec": {
   "display_name": "Python 3",
   "language": "python",
   "name": "python3"
  },
  "language_info": {
   "codemirror_mode": {
    "name": "ipython",
    "version": 3
   },
   "file_extension": ".py",
   "mimetype": "text/x-python",
   "name": "python",
   "nbconvert_exporter": "python",
   "pygments_lexer": "ipython3",
   "version": "3.7.2"
  }
 },
 "nbformat": 4,
 "nbformat_minor": 2
}
