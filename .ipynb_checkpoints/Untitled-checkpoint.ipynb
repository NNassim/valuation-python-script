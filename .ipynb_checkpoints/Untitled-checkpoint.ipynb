{
 "cells": [
  {
   "cell_type": "code",
   "execution_count": 173,
   "metadata": {},
   "outputs": [],
   "source": [
    "import pandas as pd\n",
    "import numpy as np\n",
    "import itertools\n",
    "import matplotlib.pyplot as plt\n",
    "%matplotlib inline"
   ]
  },
  {
   "cell_type": "code",
   "execution_count": 174,
   "metadata": {},
   "outputs": [],
   "source": [
    "import pandas as pd\n",
    "import numpy as np\n",
    "\n",
    "class IS_Entry:\n",
    "    \"\"\"\n",
    "    Class defining a record in the Income Statement.\n",
    "    \"\"\"\n",
    "    \n",
    "    \n",
    "    def __init__(self, name, entry_type, *args):\n",
    "        \"\"\"\n",
    "        Constructor for IS_entry class.\n",
    "        \n",
    "        Parameters\n",
    "        ----------\n",
    "        self : IS_Entry\n",
    "            IS_Entry object whose calling the function.\n",
    "        name : str\n",
    "            Name for identifying the income Statement entry.\n",
    "        entry_type : bool\n",
    "            0 for revenues type, and 1 for costs type.\n",
    "        minimum_value : int\n",
    "            Minimum value the entry can have.\n",
    "        maximum_value : int\n",
    "            Maximum value the entry can have.\n",
    "        intervals : int\n",
    "            Number of intervals to divide the range into.\n",
    "        range_values : [int]\n",
    "            Numpy Array of values for the entry.\n",
    "        \"\"\"\n",
    "        if len(args) == 3:\n",
    "            print(\n",
    "                \"Creating a value range with minimum value={}, maximum value={} and number of intervals={}\".format(args[0], args[1], args[2])\n",
    "            )\n",
    "            self.name = name\n",
    "            self.entry_type = entry_type\n",
    "            self.range_values = np.round(np.linspace(args[0], args[1], num=args[2]))\n",
    "        \n",
    "        elif len(args) == 1:\n",
    "            print(\n",
    "                \"Assign range of values with minimum value={}, maximum value={} and number of intervals={}\".format(args[0][0], args[0][len(args[0])-1], len(args[0]))\n",
    "            )\n",
    "            self.name = name\n",
    "            self.entry_type = entry_type\n",
    "            self.range_values = args[0]\n",
    "        \n",
    "        else:\n",
    "            self.name = name\n",
    "            self.entry_type = entry_type\n",
    "            self.range_values = np.array(int)\n",
    "            \n",
    "    \n",
    "    def modify_range_values(self, *args):\n",
    "        \"\"\"\n",
    "        Function for modifying range values.\n",
    "        \n",
    "        Parameters\n",
    "        ----------\n",
    "        self : IS_Entry\n",
    "            IS_Entry object whose calling the function.\n",
    "        minimum_value : int\n",
    "            Minimum value the entry can have.\n",
    "        maximum_value : int\n",
    "            Maximum value the entry can have.\n",
    "        intervals : int\n",
    "            Number of intervals to divide the range into.\n",
    "        range_values : [int]\n",
    "            Numpy Array of values for the entry.\n",
    "            \n",
    "        Returns\n",
    "        -------\n",
    "        The range of values before the modification.\n",
    "        \"\"\"\n",
    "        if len(args) == 3:\n",
    "            print(\n",
    "                \"Modifying values with range with minimum value={}, maximum value={} and number of intervals={}\".format(args[0], args[1], args[2])\n",
    "            )\n",
    "            former_range = self.range_values\n",
    "            self.range_values = np.round(np.linspace(args[0], args[1], num=args[2]))\n",
    "       \n",
    "        elif len(args) == 1:\n",
    "            print(\n",
    "                \"Modifying values with already created range with minimum value={}, maximum value={} and number of intervals={}\".format(args[0][0], args[0][len(args[0])-1], len(args[0]))\n",
    "            )\n",
    "            former_range = self.range_values\n",
    "            self.range_values = args[0]\n",
    "\n",
    "        else:\n",
    "            print(\n",
    "                \"Not valid arguments for modifying range of values. None modifications have been made.\"\n",
    "            )\n",
    "            former_range = self.range_values\n",
    "            \n",
    "        return former_range"
   ]
  },
  {
   "cell_type": "code",
   "execution_count": 188,
   "metadata": {},
   "outputs": [
    {
     "ename": "SyntaxError",
     "evalue": "invalid syntax (<ipython-input-188-a64a464e634d>, line 219)",
     "output_type": "error",
     "traceback": [
      "\u001b[0;36m  File \u001b[0;32m\"<ipython-input-188-a64a464e634d>\"\u001b[0;36m, line \u001b[0;32m219\u001b[0m\n\u001b[0;31m    result =\u001b[0m\n\u001b[0m            ^\u001b[0m\n\u001b[0;31mSyntaxError\u001b[0m\u001b[0;31m:\u001b[0m invalid syntax\n"
     ]
    }
   ],
   "source": [
    "class Income_Statement:\n",
    "    \"\"\"\n",
    "    Class representing an Income Statement for a specific year.\n",
    "    \"\"\"\n",
    "    \n",
    "    \n",
    "    def __init__(self, name, year, tax, *args):\n",
    "        \"\"\"\n",
    "        Constructor for Income_Statement class.\n",
    "        \n",
    "        Parameters\n",
    "        ----------\n",
    "        self : Income_Statement\n",
    "            Income_Statement object whose calling the function.\n",
    "        name : str\n",
    "            Name of the company.\n",
    "        year : int\n",
    "            Year of the Income Statement.\n",
    "        tax : int\n",
    "            tax that appliers to the specific company.\n",
    "        \"\"\"\n",
    "        self.name = name\n",
    "        self.year = year\n",
    "        self.tax = tax\n",
    "        self.entries = {}\n",
    "        self.gross_profit = np.array(int)\n",
    "        self.gros_margin = 0\n",
    "        self.ebitda = np.array(int)\n",
    "        self.ebit = np.array(int)\n",
    "        self.ebt = np.array(int)\n",
    "        self.profit = np.array(int)\n",
    "        print(\"Created new Income Statement of year={} for company {}, with tax={:.2%}\".format(year, name, tax))\n",
    "\n",
    "\n",
    "    def add_entry(self, name, entry_type, *args):\n",
    "        \"\"\"\n",
    "        Function for adding an entry to the income statement.\n",
    "        \n",
    "        Parameters\n",
    "        ----------\n",
    "        self : Income_Statement\n",
    "            Income_Statement object whose calling the function.\n",
    "        name : str\n",
    "            Name for identifying the income Statement entry.\n",
    "        entry_type : bool\n",
    "            True for revenues type and False for costs type.\n",
    "        minimum_value : int\n",
    "            Minimum value the entry can have.\n",
    "        maximum_value : int\n",
    "            Maximum value the entry can have.\n",
    "        intervals : int\n",
    "            Number of intervals to divide the range into.\n",
    "        range_values : [int]\n",
    "            Numpy Array of values for the entry.\n",
    "            \n",
    "        Returns\n",
    "        -------\n",
    "        IS_Entry\n",
    "            The Income Statement Entry object that is added to the Income Statement.\n",
    "        \"\"\"\n",
    "        entry = IS_Entry(name, entry_type, *args)\n",
    "        self.entries[name] = entry\n",
    "        \n",
    "        return entry\n",
    "    \n",
    "    \n",
    "    def modify_entry_values(self, name, *args):\n",
    "        \"\"\"\n",
    "        Function for modifing the entry range values.\n",
    "        \n",
    "        Parameters\n",
    "        ----------\n",
    "        self : Income_Statement\n",
    "            Income_Statement object whose calling the function.\n",
    "        name : str\n",
    "            Name of the entry to be modified.\n",
    "        minimum_value : int\n",
    "            Minimum value the entry can have.\n",
    "        maximum_value : int\n",
    "            Maximum value the entry can have.\n",
    "        intervals : int\n",
    "            Number of intervals to divide the range into.\n",
    "        range_values : [int]\n",
    "            Numpy Array of values for the entry.\n",
    "\n",
    "        Returns\n",
    "        -------\n",
    "        The range of values before the modification.\n",
    "        \"\"\"\n",
    "        # TODO: Create case when name is nor an existing entry.\n",
    "        entry = self.entries[name]\n",
    "        former_values = entry.modify_range_values(*args)\n",
    "        \n",
    "        return former_values\n",
    "    \n",
    "    \n",
    "    def calculate_result_from_entries(self, entry_1, entry_2):\n",
    "        \"\"\"\n",
    "        Calculate all possible results from combinations of 2 lines from the income statement.\n",
    "        \n",
    "        Parameters:\n",
    "        -----------\n",
    "        entry_1: str\n",
    "            Name of first entry to calculate result from.\n",
    "        entry_2: str\n",
    "            Name of second entry to calculate result from.\n",
    "            \n",
    "        Returns:\n",
    "        --------\n",
    "        A numpy array with all results.\n",
    "        \"\"\"\n",
    "        if not self.entries[entry_1] or not self.entries[entry_2]:\n",
    "            \n",
    "            print(\"Not valid names for Income Statement entries\")\n",
    "            \n",
    "            return\n",
    "        \n",
    "        else:\n",
    "            \n",
    "            if self.entries[entry_1].entry_type:\n",
    "                results1=self.entries[entry_1].range_values\n",
    "            else: \n",
    "                results1=-1*(self.entries[entry_1].range_values)\n",
    "            if self.entries[entry_2].entry_type:\n",
    "                results2=self.entries[entry_2].range_values\n",
    "            else:\n",
    "                results2=-1*(self.entries[entry_2].range_values)\n",
    "        \n",
    "            result = []\n",
    "            for i in itertools.product(results1, results2):\n",
    "                result.append(i[0] + i[1])\n",
    "\n",
    "            return np.array(result)\n",
    "        \n",
    "    \n",
    "    def calculate_result_from_values(self, partial_vals, entry_2):\n",
    "        \"\"\"\n",
    "        Calculate all possible results from combinations of 2 lines from the income statement. The first line\n",
    "        is a range of values while the second one is a name for an entry.\n",
    "        \n",
    "        Parameters:\n",
    "        -----------\n",
    "        partial_vals: (int)\n",
    "            Array of integers\n",
    "        entry_2: str\n",
    "            Name of second entry to calculate result from.\n",
    "            \n",
    "        Returns:\n",
    "        --------\n",
    "        A numpy array with all results.\n",
    "        \"\"\"\n",
    "        if not self.entries[entry_2]:\n",
    "            \n",
    "            print(\"Not valid name for Income Statement entry\")\n",
    "            \n",
    "            return\n",
    "        \n",
    "        else:\n",
    "            \n",
    "            if self.entries[entry_2].entry_type:\n",
    "                results2=self.entries[entry_2].range_values\n",
    "            else:\n",
    "                results2=-1*(self.entries[entry_2].range_values)\n",
    "        \n",
    "            result = []\n",
    "            for i in itertools.product(partial_vals, results2):\n",
    "                result.append(i[0] + i[1])\n",
    "\n",
    "            return np.array(result)\n",
    "    \n",
    "    \n",
    "    def calculate_gross_profit(self, gross_margin):\n",
    "        \"\"\"\n",
    "        Calculate Gross Margin for the Income Statement\n",
    "        \n",
    "        Parameters:\n",
    "        -----------\n",
    "        gross_margin : int\n",
    "            Average % gross margin for the company.\n",
    "        \n",
    "        Returns:\n",
    "        --------\n",
    "        np.array(int)\n",
    "            Numpy array of integers representing gross profits.\n",
    "        \"\"\"\n",
    "        self.gross_margin = gross_margin\n",
    "        self.add_entry(\"cogs\", False, (1-gross_margin)*(self.entries[\"revenues\"].range_values))\n",
    "        self.gross_profit = gross_margin*(self.entries[\"revenues\"].range_values)\n",
    "        \n",
    "        return self.gross_profit\n",
    "    \n",
    "    \n",
    "    def calculate_ebitda(self):\n",
    "        \"\"\"\n",
    "        Calculate Ebitda for the Income Statement.\n",
    "        \n",
    "        Returns:\n",
    "        --------\n",
    "        np.array(int)\n",
    "            Numpy array of integers representing ebitda values.\n",
    "        \"\"\"\n",
    "        costs = []\n",
    "        # 1 - Obtain all costs that are not Cogs or financial costs\n",
    "        for name, entry_obj in self.entries.items():\n",
    "            if not entry_obj.entry_type and \"fin\" not in name:\n",
    "                costs.append(name)\n",
    "        \n",
    "        # 2 - Check if gross profits have been calculated. If not, set gross margin to be 70%\n",
    "        if self.gross_margin == 0 or \"cogs\" not in self.entrys.keys():\n",
    "            calculate_gross_profit(0.7)\n",
    "            \n",
    "        # 3 - Calculate Ebitda. start result by revenues values\n",
    "        result = self.entries[\"revenues\"].range_values\n",
    "        for entry in costs:\n",
    "            result =\n",
    "            \n",
    "                \n",
    "        "
   ]
  },
  {
   "cell_type": "code",
   "execution_count": 176,
   "metadata": {},
   "outputs": [
    {
     "name": "stdout",
     "output_type": "stream",
     "text": [
      "Created new Income Statement of year=2017 for company Kibiwoo, with tax=25.00%\n"
     ]
    }
   ],
   "source": [
    "# 1 - Create Income statement for Kibiwoo and year 2017\n",
    "is_kib_2017 = Income_Statement(\"Kibiwoo\", 2017, 0.25)"
   ]
  },
  {
   "cell_type": "code",
   "execution_count": 177,
   "metadata": {},
   "outputs": [
    {
     "name": "stdout",
     "output_type": "stream",
     "text": [
      "Creating a value range with minimum value=1000, maximum value=50000 and number of intervals=50\n"
     ]
    },
    {
     "data": {
      "text/plain": [
       "<__main__.IS_Entry at 0x7fef0528a438>"
      ]
     },
     "execution_count": 177,
     "metadata": {},
     "output_type": "execute_result"
    }
   ],
   "source": [
    "# 2 - Insert Revenues\n",
    "is_kib_2017.add_entry(\"Revenues\", True, 1000, 50000, 50)"
   ]
  },
  {
   "cell_type": "code",
   "execution_count": 178,
   "metadata": {},
   "outputs": [
    {
     "name": "stdout",
     "output_type": "stream",
     "text": [
      "Assign range of values with minimum value=300.00000000000006, maximum value=15000.000000000002 and number of intervals=50\n"
     ]
    },
    {
     "data": {
      "text/plain": [
       "array([  700.,  1400.,  2100.,  2800.,  3500.,  4200.,  4900.,  5600.,\n",
       "        6300.,  7000.,  7700.,  8400.,  9100.,  9800., 10500., 11200.,\n",
       "       11900., 12600., 13300., 14000., 14700., 15400., 16100., 16800.,\n",
       "       17500., 18200., 18900., 19600., 20300., 21000., 21700., 22400.,\n",
       "       23100., 23800., 24500., 25200., 25900., 26600., 27300., 28000.,\n",
       "       28700., 29400., 30100., 30800., 31500., 32200., 32900., 33600.,\n",
       "       34300., 35000.])"
      ]
     },
     "execution_count": 178,
     "metadata": {},
     "output_type": "execute_result"
    }
   ],
   "source": [
    "# 3 - Calculate Gross profit and create COGS entry\n",
    "is_kib_2017.calculate_gross_profit(0.7)"
   ]
  },
  {
   "cell_type": "code",
   "execution_count": 179,
   "metadata": {},
   "outputs": [
    {
     "name": "stdout",
     "output_type": "stream",
     "text": [
      "Creating a value range with minimum value=500, maximum value=10000 and number of intervals=50\n",
      "Creating a value range with minimum value=3500, maximum value=10000 and number of intervals=50\n",
      "Creating a value range with minimum value=1500, maximum value=4500 and number of intervals=50\n"
     ]
    },
    {
     "data": {
      "text/plain": [
       "<__main__.IS_Entry at 0x7fef052c7a90>"
      ]
     },
     "execution_count": 179,
     "metadata": {},
     "output_type": "execute_result"
    }
   ],
   "source": [
    "# 4 - Add other Fix Costs\n",
    "is_kib_2017.add_entry(\"mkt_costs\", False, 500, 10000, 50)\n",
    "is_kib_2017.add_entry(\"rrhh_costs\", False, 3500, 10000, 50)\n",
    "is_kib_2017.add_entry(\"gen_costs\", False, 1500, 4500, 50)"
   ]
  },
  {
   "cell_type": "code",
   "execution_count": 180,
   "metadata": {},
   "outputs": [
    {
     "data": {
      "text/plain": [
       "{'Revenues': <__main__.IS_Entry at 0x7fef0528a438>,\n",
       " 'COGS': <__main__.IS_Entry at 0x7fef0707bdd8>,\n",
       " 'mkt_costs': <__main__.IS_Entry at 0x7fef0511a3c8>,\n",
       " 'rrhh_costs': <__main__.IS_Entry at 0x7fef0511a128>,\n",
       " 'gen_costs': <__main__.IS_Entry at 0x7fef052c7a90>}"
      ]
     },
     "execution_count": 180,
     "metadata": {},
     "output_type": "execute_result"
    }
   ],
   "source": [
    "is_kib_2017.entries"
   ]
  },
  {
   "cell_type": "code",
   "execution_count": 187,
   "metadata": {},
   "outputs": [
    {
     "data": {
      "text/plain": [
       "False"
      ]
     },
     "execution_count": 187,
     "metadata": {},
     "output_type": "execute_result"
    }
   ],
   "source": [
    "\"fin\" in \"Financial aspects\"\n",
    "\"cogs\" in [\"fin\", \"rev\", \"retry\", \"cogs\"]"
   ]
  },
  {
   "cell_type": "code",
   "execution_count": 47,
   "metadata": {},
   "outputs": [],
   "source": [
    "def create_data(pl_entries):\n",
    "    \"\"\"\n",
    "    Function for creating a pandas dataframe that contains as columns each P&L line and as data\n",
    "    the numpy array for each line with all possible values.\n",
    "    \n",
    "    Args:\n",
    "        - pl_entries....List containing all the lines of the P&L.\n",
    "        \n",
    "    Returns:\n",
    "        A pandas dataframe with columns name the P&L lines and values a numpy array of the intervals for each line\n",
    "    \"\"\"\n",
    "    data = {}\n",
    "    for line in pl_entries:\n",
    "        start, stop, num_steps = create_interval(line)\n",
    "        print(\"Line has values (start={:d}, stop={:d}, num_steps={:d})\\n\".format(start, stop, num_steps))\n",
    "        data[line] = create_array()\n",
    "    return data"
   ]
  }
 ],
 "metadata": {
  "kernelspec": {
   "display_name": "Python 3",
   "language": "python",
   "name": "python3"
  },
  "language_info": {
   "codemirror_mode": {
    "name": "ipython",
    "version": 3
   },
   "file_extension": ".py",
   "mimetype": "text/x-python",
   "name": "python",
   "nbconvert_exporter": "python",
   "pygments_lexer": "ipython3",
   "version": "3.7.2"
  }
 },
 "nbformat": 4,
 "nbformat_minor": 2
}
