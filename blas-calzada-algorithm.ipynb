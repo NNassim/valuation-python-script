{
 "cells": [
  {
   "cell_type": "code",
   "execution_count": 50,
   "metadata": {},
   "outputs": [],
   "source": [
    "import pandas as pd\n",
    "import numpy as np\n",
    "import itertools\n",
    "import matplotlib.pyplot as plt\n",
    "import seaborn as sns\n",
    "%matplotlib inline\n",
    "\n",
    "sns.set(color_codes=True)\n",
    "sns.set(rc={'figure.figsize':(11.7,8.27)})"
   ]
  },
  {
   "cell_type": "code",
   "execution_count": 51,
   "metadata": {},
   "outputs": [],
   "source": [
    "import pandas as pd\n",
    "import numpy as np\n",
    "\n",
    "class IS_Entry:\n",
    "    \"\"\"\n",
    "    Class defining a record in the Income Statement.\n",
    "    \"\"\"\n",
    "    \n",
    "    \n",
    "    def __init__(self, name, entry_type, *args):\n",
    "        \"\"\"\n",
    "        Constructor for IS_entry class.\n",
    "        \n",
    "        Parameters\n",
    "        ----------\n",
    "        self : IS_Entry\n",
    "            IS_Entry object whose calling the function.\n",
    "        name : str\n",
    "            Name for identifying the income Statement entry.\n",
    "        entry_type : bool\n",
    "            0 for revenues type, and 1 for costs type.\n",
    "        minimum_value : int\n",
    "            Minimum value the entry can have.\n",
    "        maximum_value : int\n",
    "            Maximum value the entry can have.\n",
    "        intervals : int\n",
    "            Number of intervals to divide the range into.\n",
    "        range_values : [int]\n",
    "            Numpy Array of values for the entry.\n",
    "        \"\"\"\n",
    "        if len(args) == 3:\n",
    "            print(\n",
    "                \"Creating a value range with minimum value={}, maximum value={} and number of intervals={}\".format(args[0], args[1], args[2])\n",
    "            )\n",
    "            self.name = name\n",
    "            self.entry_type = entry_type\n",
    "            self.range_values = np.round(np.linspace(args[0], args[1], num=args[2]))\n",
    "        \n",
    "        elif len(args) == 1:\n",
    "            print(\n",
    "                \"Assign range of values with minimum value={}, maximum value={} and number of intervals={}\".format(args[0][0], args[0][len(args[0])-1], len(args[0]))\n",
    "            )\n",
    "            self.name = name\n",
    "            self.entry_type = entry_type\n",
    "            self.range_values = args[0]\n",
    "        \n",
    "        else:\n",
    "            self.name = name\n",
    "            self.entry_type = entry_type\n",
    "            self.range_values = np.array(int)\n",
    "            \n",
    "    \n",
    "    def modify_range_values(self, *args):\n",
    "        \"\"\"\n",
    "        Function for modifying range values.\n",
    "        \n",
    "        Parameters\n",
    "        ----------\n",
    "        self : IS_Entry\n",
    "            IS_Entry object whose calling the function.\n",
    "        minimum_value : int\n",
    "            Minimum value the entry can have.\n",
    "        maximum_value : int\n",
    "            Maximum value the entry can have.\n",
    "        intervals : int\n",
    "            Number of intervals to divide the range into.\n",
    "        range_values : [int]\n",
    "            Numpy Array of values for the entry.\n",
    "            \n",
    "        Returns\n",
    "        -------\n",
    "        The range of values before the modification.\n",
    "        \"\"\"\n",
    "        if len(args) == 3:\n",
    "            print(\n",
    "                \"Modifying values with range with minimum value={}, maximum value={} and number of intervals={}\".format(args[0], args[1], args[2])\n",
    "            )\n",
    "            former_range = self.range_values\n",
    "            self.range_values = np.round(np.linspace(args[0], args[1], num=args[2]))\n",
    "       \n",
    "        elif len(args) == 1:\n",
    "            print(\n",
    "                \"Modifying values with already created range with minimum value={}, maximum value={} and number of intervals={}\".format(args[0][0], args[0][len(args[0])-1], len(args[0]))\n",
    "            )\n",
    "            former_range = self.range_values\n",
    "            self.range_values = args[0]\n",
    "\n",
    "        else:\n",
    "            print(\n",
    "                \"Not valid arguments for modifying range of values. None modifications have been made.\"\n",
    "            )\n",
    "            former_range = self.range_values\n",
    "            \n",
    "        return former_range"
   ]
  },
  {
   "cell_type": "code",
   "execution_count": 52,
   "metadata": {},
   "outputs": [],
   "source": [
    "class Income_Statement:\n",
    "    \"\"\"\n",
    "    Class representing an Income Statement for a specific year.\n",
    "    \"\"\"\n",
    "    \n",
    "    \n",
    "    def __init__(self, name, year, tax, *args):\n",
    "        \"\"\"\n",
    "        Constructor for Income_Statement class.\n",
    "        \n",
    "        Parameters\n",
    "        ----------\n",
    "        self : Income_Statement\n",
    "            Income_Statement object whose calling the function.\n",
    "        name : str\n",
    "            Name of the company.\n",
    "        year : int\n",
    "            Year of the Income Statement.\n",
    "        tax : int\n",
    "            tax that appliers to the specific company.\n",
    "        \"\"\"\n",
    "        self.name = name\n",
    "        self.year = year\n",
    "        self.tax = tax\n",
    "        self.entries = {}\n",
    "        self.gross_profit = np.array(int)\n",
    "        self.gros_margin = 0\n",
    "        self.ebitda = np.array(int)\n",
    "        self.ebit = np.array(int)\n",
    "        self.ebt = np.array(int)\n",
    "        self.profit = np.array(int)\n",
    "        print(\"Created new Income Statement of year={} for company {}, with tax={:.2%}\".format(year, name, tax))\n",
    "\n",
    "\n",
    "    def add_entry(self, name, entry_type, *args):\n",
    "        \"\"\"\n",
    "        Function for adding an entry to the income statement.\n",
    "        \n",
    "        Parameters\n",
    "        ----------\n",
    "        self : Income_Statement\n",
    "            Income_Statement object whose calling the function.\n",
    "        name : str\n",
    "            Name for identifying the income Statement entry.\n",
    "        entry_type : bool\n",
    "            True for revenues type and False for costs type.\n",
    "        minimum_value : int\n",
    "            Minimum value the entry can have.\n",
    "        maximum_value : int\n",
    "            Maximum value the entry can have.\n",
    "        intervals : int\n",
    "            Number of intervals to divide the range into.\n",
    "        range_values : [int]\n",
    "            Numpy Array of values for the entry.\n",
    "            \n",
    "        Returns\n",
    "        -------\n",
    "        IS_Entry\n",
    "            The Income Statement Entry object that is added to the Income Statement.\n",
    "        \"\"\"\n",
    "        entry = IS_Entry(name, entry_type, *args)\n",
    "        self.entries[name] = entry\n",
    "        \n",
    "        return entry\n",
    "    \n",
    "    \n",
    "    def modify_entry_values(self, name, *args):\n",
    "        \"\"\"\n",
    "        Function for modifing the entry range values.\n",
    "        \n",
    "        Parameters\n",
    "        ----------\n",
    "        self : Income_Statement\n",
    "            Income_Statement object whose calling the function.\n",
    "        name : str\n",
    "            Name of the entry to be modified.\n",
    "        minimum_value : int\n",
    "            Minimum value the entry can have.\n",
    "        maximum_value : int\n",
    "            Maximum value the entry can have.\n",
    "        intervals : int\n",
    "            Number of intervals to divide the range into.\n",
    "        range_values : [int]\n",
    "            Numpy Array of values for the entry.\n",
    "\n",
    "        Returns\n",
    "        -------\n",
    "        The range of values before the modification.\n",
    "        \"\"\"\n",
    "        # TODO: Create case when name is nor an existing entry.\n",
    "        entry = self.entries[name]\n",
    "        former_values = entry.modify_range_values(*args)\n",
    "        \n",
    "        return former_values\n",
    "    \n",
    "    \n",
    "    def calculate_result_from_entries(self, entry_1, entry_2):\n",
    "        \"\"\"\n",
    "        Calculate all possible results from combinations of 2 lines from the income statement.\n",
    "        \n",
    "        Parameters:\n",
    "        -----------\n",
    "        entry_1: str\n",
    "            Name of first entry to calculate result from.\n",
    "        entry_2: str\n",
    "            Name of second entry to calculate result from.\n",
    "            \n",
    "        Returns:\n",
    "        --------\n",
    "        A numpy array with all results sorted.\n",
    "        \"\"\"\n",
    "        if not self.entries[entry_1] or not self.entries[entry_2]:\n",
    "            \n",
    "            print(\"Not valid names for Income Statement entries\")\n",
    "            \n",
    "            return\n",
    "        \n",
    "        else:\n",
    "            \n",
    "            if self.entries[entry_1].entry_type:\n",
    "                results1=self.entries[entry_1].range_values\n",
    "            else: \n",
    "                results1=-1*(self.entries[entry_1].range_values)\n",
    "            if self.entries[entry_2].entry_type:\n",
    "                results2=self.entries[entry_2].range_values\n",
    "            else:\n",
    "                results2=-1*(self.entries[entry_2].range_values)\n",
    "        \n",
    "            result = []\n",
    "            for i in itertools.product(results1, results2):\n",
    "                result.append(i[0] + i[1])\n",
    "\n",
    "            return np.array(sorted(result))\n",
    "        \n",
    "    \n",
    "    def calculate_result_from_values(self, partial_vals, entry_2):\n",
    "        \"\"\"\n",
    "        Calculate all possible results from combinations of 2 lines from the income statement. The first line\n",
    "        is a range of values while the second one is a name for an entry.\n",
    "        \n",
    "        Parameters:\n",
    "        -----------\n",
    "        partial_vals: (int)\n",
    "            Array of integers\n",
    "        entry_2: str\n",
    "            Name of second entry to calculate result from.\n",
    "            \n",
    "        Returns:\n",
    "        --------\n",
    "        A numpy array with all results.\n",
    "        \"\"\"\n",
    "        if not self.entries[entry_2]:\n",
    "            \n",
    "            print(\"Not valid name for Income Statement entry\")\n",
    "            \n",
    "            return\n",
    "        \n",
    "        else:\n",
    "            \n",
    "            if self.entries[entry_2].entry_type:\n",
    "                results2=self.entries[entry_2].range_values\n",
    "            else:\n",
    "                results2=-1*(self.entries[entry_2].range_values)\n",
    "        \n",
    "            result = []\n",
    "            for i in itertools.product(partial_vals, results2):\n",
    "                result.append(i[0] + i[1])\n",
    "\n",
    "            return np.array(result)\n",
    "    \n",
    "    \n",
    "    def calculate_gross_profit(self, gross_margin):\n",
    "        \"\"\"\n",
    "        Calculate Gross Margin for the Income Statement\n",
    "        \n",
    "        Parameters:\n",
    "        -----------\n",
    "        gross_margin : int\n",
    "            Average % gross margin for the company.\n",
    "        \n",
    "        Returns:\n",
    "        --------\n",
    "        np.array(int)\n",
    "            Numpy array of integers representing gross profits.\n",
    "        \"\"\"\n",
    "        self.gross_margin = gross_margin\n",
    "        self.add_entry(\"cogs\", False, (1-gross_margin)*(self.entries[\"revenues\"].range_values))\n",
    "        self.gross_profit = gross_margin*(self.entries[\"revenues\"].range_values)\n",
    "        \n",
    "        return self.gross_profit\n",
    "    \n",
    "    \n",
    "    def calculate_ebitda(self):\n",
    "        \"\"\"\n",
    "        Calculate Ebitda for the Income Statement.\n",
    "        \n",
    "        Returns:\n",
    "        --------\n",
    "        np.array(int)\n",
    "            Numpy array of integers representing ebitda values.\n",
    "        \"\"\"\n",
    "        costs = []\n",
    "        # 1 - Obtain all costs that are not Cogs or financial costs\n",
    "        for name, entry_obj in self.entries.items():\n",
    "            if not entry_obj.entry_type and \"fin\" not in name and \"cogs\" not in name:\n",
    "                costs.append(name)\n",
    "        \n",
    "        # 2 - Check if gross profits have been calculated. If not, set gross margin to be 70%\n",
    "        if self.gross_margin == 0 or \"cogs\" not in self.entries.keys():\n",
    "            calculate_gross_profit(0.7)\n",
    "            \n",
    "        # 3 - Calculate Ebitda. start result by revenues values\n",
    "        result = self.gross_profit\n",
    "        #print(\"Gross profit is: {}\".format(self.gross_profit))\n",
    "        for entry in costs:\n",
    "            #print(\"Length of results is {}\".format(len(result)))\n",
    "            #print(\"Costs for {} are {}\".format(entry, self.entries[entry].range_values))\n",
    "            result = self.calculate_result_from_values(result, entry)\n",
    "            #print(\"Partial results after {}\".format(entry))\n",
    "            #print(result)\n",
    "        \n",
    "        # 4 - Set Ebitda Value\n",
    "        self.ebitda = np.array(result)\n",
    "        \n",
    "        return self.ebitda\n",
    "    \n",
    "    def plot_histogram(self, entry, cols=30, save=False, plot_point=False):\n",
    "        \"\"\"\n",
    "        Plot an histogram distribution for a specific entry.\n",
    "        \n",
    "        Parameters:\n",
    "        -----------\n",
    "        entry: str\n",
    "            The specific entry we want to print the distriution for.\n",
    "        cols: int (default: 30)\n",
    "            Total number of cols to print in our histogram.\n",
    "        save: bool\n",
    "            bool to indicate if we want to save the plot.\n",
    "        plot_point: bool\n",
    "            Whether to point the specific point of estimation on the plot or not.\n",
    "\n",
    "        Returns:\n",
    "        --------\n",
    "        Name of the file where the plot was saved to or nothing.\n",
    "        \"\"\"\n",
    "        # TODO: Handle case where entry does not exist and avoid an error.\n",
    "        values = self.__getattribute__(entry)\n",
    "        image = sns.distplot(values, bins=cols)\n",
    "        if plot_point:\n",
    "            image.sns.pointplot()\n",
    "        "
   ]
  },
  {
   "cell_type": "code",
   "execution_count": 53,
   "metadata": {},
   "outputs": [
    {
     "name": "stdout",
     "output_type": "stream",
     "text": [
      "Created new Income Statement of year=2017 for company Kibiwoo, with tax=25.00%\n"
     ]
    }
   ],
   "source": [
    "# 1 - Create Income statement for Kibiwoo and year 2017\n",
    "is_kib_2017 = Income_Statement(\"Kibiwoo\", 2017, 0.25)"
   ]
  },
  {
   "cell_type": "code",
   "execution_count": 54,
   "metadata": {},
   "outputs": [
    {
     "name": "stdout",
     "output_type": "stream",
     "text": [
      "Creating a value range with minimum value=3047000, maximum value=5740000 and number of intervals=50\n"
     ]
    },
    {
     "data": {
      "text/plain": [
       "<__main__.IS_Entry at 0x7fb14aedc588>"
      ]
     },
     "execution_count": 54,
     "metadata": {},
     "output_type": "execute_result"
    }
   ],
   "source": [
    "# 2 - Insert Revenues\n",
    "\"\"\"\n",
    "For BEST case (7.075 M €) we consider a total:\n",
    "  - Ski: 9.5% Mkt. Share in Spain. 8.15% Mkt. Share for Andorra. 0.72% Mkt. Share France.\n",
    "  - Bicycle: 5% Mkt. Share in Spain.\n",
    "  - Surf: 10 % Mkt. Share in Spain. 1.85% Mkt. Share France.\n",
    "For WORST (2.6 M €) case we consider a total:\n",
    "  - Ski: 4% Mkt. Share in Spain. 3.5% Mkt. Share for Andorra. 0.1% Mkt. Share France.\n",
    "  - Bicycle: 2.3% Mkt. Share in Spain.\n",
    "  - Surf: 5.1 % Mkt. Share in Spain. 0% Mkt. Share France.\n",
    "\"\"\"\n",
    "\n",
    "is_kib_2017.add_entry(\"revenues\", True, 3047000, 5740000, 50)"
   ]
  },
  {
   "cell_type": "code",
   "execution_count": 55,
   "metadata": {},
   "outputs": [
    {
     "name": "stdout",
     "output_type": "stream",
     "text": [
      "Assign range of values with minimum value=353452.0, maximum value=665840.0 and number of intervals=50\n"
     ]
    },
    {
     "data": {
      "text/plain": [
       "array([2693548.   , 2742131.756, 2790715.512, 2839300.152, 2887883.908,\n",
       "       2936467.664, 2985051.42 , 3033635.176, 3082218.932, 3130803.572,\n",
       "       3179387.328, 3227971.084, 3276554.84 , 3325138.596, 3373723.236,\n",
       "       3422306.992, 3470890.748, 3519474.504, 3568058.26 , 3616642.016,\n",
       "       3665226.656, 3713810.412, 3762394.168, 3810977.924, 3859561.68 ,\n",
       "       3908146.32 , 3956730.076, 4005313.832, 4053897.588, 4102481.344,\n",
       "       4151065.984, 4199649.74 , 4248233.496, 4296817.252, 4345401.008,\n",
       "       4393984.764, 4442569.404, 4491153.16 , 4539736.916, 4588320.672,\n",
       "       4636904.428, 4685489.068, 4734072.824, 4782656.58 , 4831240.336,\n",
       "       4879824.092, 4928407.848, 4976992.488, 5025576.244, 5074160.   ])"
      ]
     },
     "execution_count": 55,
     "metadata": {},
     "output_type": "execute_result"
    }
   ],
   "source": [
    "# 3 - Calculate Gross profit and create COGS entry\n",
    "is_kib_2017.calculate_gross_profit(0.884)"
   ]
  },
  {
   "cell_type": "code",
   "execution_count": 56,
   "metadata": {},
   "outputs": [
    {
     "name": "stdout",
     "output_type": "stream",
     "text": [
      "Creating a value range with minimum value=1010000, maximum value=1475000 and number of intervals=50\n"
     ]
    },
    {
     "data": {
      "text/plain": [
       "<__main__.IS_Entry at 0x7fb14aeaa198>"
      ]
     },
     "execution_count": 56,
     "metadata": {},
     "output_type": "execute_result"
    }
   ],
   "source": [
    "# 4 - Add RRHH Costs\n",
    "\"\"\"\n",
    "For BEST case (1.6 M € - 22.6% of Rev.) we consider:\n",
    "  - New Clients / Sales Team: 17.5 K.\n",
    "  - Clients / Sales Team: 26 K.\n",
    "  - Clients / IT Member: 60 K.\n",
    "  - Clients / Ops Member: 26 K.\n",
    "For WORST case (1.062 M € - 41 %) we consider a total:\n",
    "  - New Clients / Sales Team: 26K.\n",
    "  - Clients / Sales Team: 19.5 K.\n",
    "  - Clients / IT Member: 36 K.\n",
    "  - Clients / Ops Member: 19.5 K.\n",
    "\"\"\"\n",
    "is_kib_2017.add_entry(\"rrhh_costs\", False, 1010000, 1475000, 50)"
   ]
  },
  {
   "cell_type": "code",
   "execution_count": 57,
   "metadata": {},
   "outputs": [
    {
     "name": "stdout",
     "output_type": "stream",
     "text": [
      "Creating a value range with minimum value=1380000, maximum value=1885000 and number of intervals=50\n"
     ]
    },
    {
     "data": {
      "text/plain": [
       "<__main__.IS_Entry at 0x7fb14aeaa978>"
      ]
     },
     "execution_count": 57,
     "metadata": {},
     "output_type": "execute_result"
    }
   ],
   "source": [
    "# 5 - Add Marketing Costs\n",
    "\"\"\"\n",
    "For BEST case (6.3 € C.A.C) we consider:\n",
    "  - 32.90 % - 2.32 M € sobre 7.75M\n",
    "For WORST case (12.3 € C.A.C.) we consider a total:\n",
    "  - 35.2 % - 0.912 M € sobre 2.6M\n",
    "\"\"\"\n",
    "is_kib_2017.add_entry(\"mkt_costs\", False, 1380000, 1885000, 50)"
   ]
  },
  {
   "cell_type": "code",
   "execution_count": 58,
   "metadata": {},
   "outputs": [
    {
     "name": "stdout",
     "output_type": "stream",
     "text": [
      "Creating a value range with minimum value=155000, maximum value=175000 and number of intervals=10\n"
     ]
    },
    {
     "data": {
      "text/plain": [
       "<__main__.IS_Entry at 0x7fb14af1f8d0>"
      ]
     },
     "execution_count": 58,
     "metadata": {},
     "output_type": "execute_result"
    }
   ],
   "source": [
    "# 5 - Add General Costs\n",
    "\"\"\"\n",
    "For BEST case we consider:\n",
    "  - 5 % - 360K € sobre 7.75M\n",
    "For WORST case we consider:\n",
    "  - 10 % - 260K € sobre 2.6M\n",
    "\"\"\"\n",
    "is_kib_2017.add_entry(\"gen_costs\", False, 155000, 175000, 10)"
   ]
  },
  {
   "cell_type": "code",
   "execution_count": 59,
   "metadata": {},
   "outputs": [],
   "source": [
    "# 5 - Calculate all ebitda values\n",
    "ebitda = is_kib_2017.calculate_ebitda()"
   ]
  },
  {
   "cell_type": "code",
   "execution_count": 64,
   "metadata": {},
   "outputs": [
    {
     "data": {
      "text/plain": [
       "[Text(0, 0, '-1.5Mill.'),\n",
       " Text(0, 0, '-1.0Mill.'),\n",
       " Text(0, 0, '-0.5Mill.'),\n",
       " Text(0, 0, '0.0Mill.'),\n",
       " Text(0, 0, '0.5Mill.'),\n",
       " Text(0, 0, '1.0Mill.'),\n",
       " Text(0, 0, '1.5Mill.'),\n",
       " Text(0, 0, '2.0Mill.'),\n",
       " Text(0, 0, '2.5Mill.'),\n",
       " Text(0, 0, '3.0Mill.')]"
      ]
     },
     "execution_count": 64,
     "metadata": {},
     "output_type": "execute_result"
    },
    {
     "data": {
      "image/png": "[encoded data removed]",
      "text/plain": [
       "<Figure size 842.4x595.44 with 1 Axes>"
      ]
     },
     "metadata": {},
     "output_type": "display_data"
    }
   ],
   "source": [
    "ax = sns.distplot(is_kib_2017.ebitda, bins=25)\n",
    "ax.axvline(+580000, 0, 0.95, color='r')\n",
    "ax.set_title('KIBIWOO EBITDA Probability Distribution Year 2024')\n",
    "ax.set_xlabel('E.B.I.T.D.A.')\n",
    "ax.set_ylabel('Porcentaje (%1e-7)')\n",
    "xlabels = ['{:.1f}'.format(x) + 'Mill.' for x in ax.get_xticks()/1000000]\n",
    "ax.set_xticklabels(xlabels)"
   ]
  },
  {
   "cell_type": "code",
   "execution_count": 61,
   "metadata": {},
   "outputs": [],
   "source": [
    "is_kib_2017.ebitda.sort()"
   ]
  },
  {
   "cell_type": "code",
   "execution_count": 62,
   "metadata": {},
   "outputs": [
    {
     "name": "stdout",
     "output_type": "stream",
     "text": [
      "51.8%\n"
     ]
    }
   ],
   "source": [
    "print(\"{:.1%}\".format(len(is_kib_2017.ebitda[is_kib_2017.ebitda > 800000])/len(is_kib_2017.ebitda)))"
   ]
  },
  {
   "cell_type": "code",
   "execution_count": null,
   "metadata": {},
   "outputs": [],
   "source": [
    "def create_data(pl_entries):\n",
    "    \"\"\"\n",
    "    Function for creating a pandas dataframe that contains as columns each P&L line and as data\n",
    "    the numpy array for each line with all possible values.\n",
    "    \n",
    "    Args:\n",
    "        - pl_entries....List containing all the lines of the P&L.\n",
    "        \n",
    "    Returns:\n",
    "        A pandas dataframe with columns name the P&L lines and values a numpy array of the intervals for each line\n",
    "    \"\"\"\n",
    "    data = {}\n",
    "    for line in pl_entries:\n",
    "        start, stop, num_steps = create_interval(line)\n",
    "        print(\"Line has values (start={:d}, stop={:d}, num_steps={:d})\\n\".format(start, stop, num_steps))\n",
    "        data[line] = create_array()\n",
    "    return data"
   ]
  }
 ],
 "metadata": {
  "kernelspec": {
   "display_name": "Python 3",
   "language": "python",
   "name": "python3"
  },
  "language_info": {
   "codemirror_mode": {
    "name": "ipython",
    "version": 3
   },
   "file_extension": ".py",
   "mimetype": "text/x-python",
   "name": "python",
   "nbconvert_exporter": "python",
   "pygments_lexer": "ipython3",
   "version": "3.7.2"
  }
 },
 "nbformat": 4,
 "nbformat_minor": 2
}
